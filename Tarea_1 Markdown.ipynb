{
 "cells": [
  {
   "cell_type": "markdown",
   "metadata": {},
   "source": [
    "<img style=\"float: left; margin: 30px 15px 15px 15px;\" src=\"https://pngimage.net/wp-content/uploads/2018/06/logo-iteso-png-5.png\" width=\"300\" height=\"500\" /> \n",
    "    \n",
    "    \n",
    "### <font color='navy'> Simulación de procesos financieros. \n",
    "\n",
    "**Nombres:** Keysi fuentes y Juan Pablo Dominguez\n",
    "\n",
    "**Fecha:** 29 de Enero de 2024.\n",
    "\n",
    "**Expediente** :  y 735196.\n",
    "**Profesor:** Oscar David Jaramillo Zuluaga.\n",
    "    \n",
    "**Link Github**: Link con el enlace del repositorio del creador del proyecto\n",
    "\n",
    "# Tarea 1: Clase 3"
   ]
  },
  {
   "cell_type": "markdown",
   "metadata": {},
   "source": [
    "## Enunciado de tarea (Transcibirlo)\n",
    "> ### Fecha de entrega: Lunes 29 de Enero.\n",
    "### Recuerden que en canvas se encuntra el archivo Plantilla tareas, en donde deben de solucionar todas sus tareas.\n",
    "\n",
    "Este archivo contiene las pautas necesarias para crear el archivo conjunto en Github, usando los notebooks de Jupyter:\n",
    "\n",
    "1.  El archivo debe realizarse en parejas y sólo uno de los dos debe crear en su cuenta de *Github* un repositorio con el nombre **ProyectoConjunto\\_APELLIDO1\\_APELLIDO2**. A la persona que creó el repositorio la llamaremos (ESTUDIANTE 1 ). El APELLIDO se debe de escribir (Iniciales del nombre y primer apellido), por ejemplo si yo creara el archivo lo debería de nombrar *ProyectoConjunto\\_ODJaramillo*. \n",
    "1.  Posteriormente, desde la cuenta del (ESTUDIANTE 2), 'aquel que no creó el repositorio anterior', ingresar al perfil del ESTUDIANTE 1 y en el repositorio creado en el paso 1, realizar un \"fork\" de este repositorio en su perfil, y además realizar los pasos en Gitkraken para hacer dicho repositorio \"Remoto (REMOTE)\" VER DICHO PROCEDIMIENTO EN LA CLASE **Clase2_GitTurorial2**.\n",
    "1.  Luego de realizados los pasos 1 y 2, el ESTUDIANTE 1 y ESTUDIANTE 2, desde su computador realizar un *clone* del repositorio creado en el numeral 1 en la carpeta que cada quién haya asignado para el curso en su computador. \n",
    "1.  Luego desde Jupyter el ESTUDIANTE 1, crea un nuevo ``notebook`` en el repositorio del paso 3. \n",
    "1.  En este nuevo notebook el ESTUDIANTE 1 y ESTUDIANTE 2, deben realizar una presentación describiendo sus expectativas del curso y la transcipción de la Figura 1 y Figura 2 respectivamente, haciendo uso de la sintaxis Markdown. Recuerden definir unas celdas donde cada usuario modificará el cuaderno de python para evitar futuros conflictos. \n",
    "\n",
    "**RECOMENDACIÓN:ANTES DE EMPEZAR A REALIZAR MUCHAS MODIFICACIONES DEL NOTEBOOK PRIMERO REALICEN CAMBIOS PEQUEÑOS EN EL ARCHIVO EN CONJUNTO Y VERIFIQUEN SI TANTO EL ``ESTUDIANTE 1`` COMO EL ``ESTUDIANTE 2``  RECIBEN LAS ACTUALIZACIONES QUE REALIZAN CADA UNO EN EL PROYECTO PARA VERIFICAR QUE EL REMOTE ESTUVO BIEN CONFIGURADO.**\n",
    ">Les recomiendo ver los siguientes enlaces para ver distintas funciones para escribir en markdown.\n",
    ">    - [Creador de tablas online](https://www.tablesgenerator.com/markdown_tables)\n",
    ">    - [Sintáxis markdown](https://joplinapp.org/markdown/)"
   ]
  },
  {
   "cell_type": "markdown",
   "metadata": {},
   "source": [
    "### Ejercicio 1: (enunciado) Transcribirlo"
   ]
  },
  {
   "cell_type": "markdown",
   "metadata": {},
   "source": [
    "Código de solución estudiante 1 \n",
    "**Juan Pablo Dominguez**"
   ]
  },
  {
   "cell_type": "markdown",
   "metadata": {},
   "source": [
    "6. Cuando ya se encuentre el proyecto conjunto con la información del ESTUDIANTE 1 y ESTUDIANTE 2, el ``ESTUDIANTE 2``  debe de realizar un `pull request` con las modificaciones realizadas a el `ESTUDIANTE 1` para que este realice un merge a la rama `master`, con las moficaciones propuestas por el `ESTUDIANTE 2`, TAL Y CÓMO SE REALIZÓ EN CLASE. (Recuerden que los pull request se generan en *Gitkraken* y se administran los comentarios o cambios propuestos por su compañero desde *Github* ver `Clase1_GitTurorial` para aclaración de dudas, donde se explica cómo crear *branch y pull request*)"
   ]
  },
  {
   "cell_type": "markdown",
   "metadata": {},
   "source": [
    "7. Luego de culminado los pasos anteriores, el ESTUDIANTE 1,realizará un programa que imprima la serie de fibonacci para sus primeros 100 términos en un array de python,usando la rama “master” del repositorio creado. Por otro lado, el ESTUDIANTE 2,creando un “branch” llamado `ejerPrograma`, generará un programa que muestre los números primos del 0-100. Luego de que el ESTUDIANTE 2 haya terminado su programa, debe de realizar un “pull request” al ESTUDIANTE 1, **ANTES** de hacer un “merge” de la rama `ejerPrograma` en el proyecto principal (“master”). Luego de realizado estos pasos **NO BORRAR LA RAMA CREADA (`ejerPrograma`)**"
   ]
  },
  {
   "cell_type": "markdown",
   "metadata": {},
   "source": [
    "\n",
    "|  i  |  x  | $f(x)$  |\n",
    "|-----|-----|---------|\n",
    "| 0   | -1  |  0.3678 |\n",
    "|<span style=\"color:red;\">1</span>   | <span style=\"color:red;\">-0.5</span>|  <span style=\"color:red;\">0.7788</span> |\n",
    "|<span style=\"color:blue;\">2</span>   | <span style=\"color:blue;\">0</span>|  <span style=\"color:blue;\">1</span> |\n",
    "|<span style=\"color:red;\">3</span>   | <span style=\"color:red;\">0.5</span>|  <span style=\"color:red;\">0.7788</span> |\n",
    "| 4   |  1  |  0.3678 |\n",
    "\n",
    "\n"
   ]
  },
  {
   "cell_type": "markdown",
   "metadata": {},
   "source": [
    "$$\n",
    " \\int_{-1}^{1} e^{-x^2} \\, dx \\approx \\frac{0.5}{3}[f(-1) + f(1) + 4(f(-0.5) + f(0.5)) + 2f(0)]\n",
    "$$\n",
    "\n",
    "\n",
    "$$\n",
    "\\approx \\frac{0.5}{3} [0.3678 +0.3678 + 4(0.7788 + 0.7788)+ 2 * 1] \\approx 1.4936\n",
    "$$\n",
    "\n",
    "\n",
    "A modo de verificación se calculará por software el valor del área para $n = 100$ un valor mucho más elevado al que se utilizó anteriormente. Si lo calculado previamente es correcto, hoy se esperaría que sea el próximo al valor presentado a continuación para hacer una buena aproximación\n",
    "\n",
    "\n",
    "$$\n",
    " \\int_{-1}^{1} e^{-x^2} \\, dx \\approx 1.4369 \n",
    "$$\n"
   ]
  },
  {
   "cell_type": "markdown",
   "metadata": {},
   "source": [
    "### Ejercicio 2"
   ]
  },
  {
   "cell_type": "markdown",
   "metadata": {},
   "source": [
    "Código de solución estudiante 2 \n",
    "**Keysi Fuentes**"
   ]
  },
  {
   "cell_type": "code",
   "execution_count": 6,
   "metadata": {},
   "outputs": [
    {
     "name": "stdout",
     "output_type": "stream",
     "text": [
      "[0, 1, 1, 2, 3, 5, 8, 13, 21, 34, 55, 89, 144, 233, 377, 610, 987, 1597, 2584, 4181, 6765, 10946, 17711, 28657, 46368, 75025, 121393, 196418, 317811, 514229, 832040, 1346269, 2178309, 3524578, 5702887, 9227465, 14930352, 24157817, 39088169, 63245986, 102334155, 165580141, 267914296, 433494437, 701408733, 1134903170, 1836311903, 2971215073, 4807526976, 7778742049, 12586269025, 20365011074, 32951280099, 53316291173, 86267571272, 139583862445, 225851433717, 365435296162, 591286729879, 956722026041, 1548008755920, 2504730781961, 4052739537881, 6557470319842, 10610209857723, 17167680177565, 27777890035288, 44945570212853, 72723460248141, 117669030460994, 190392490709135, 308061521170129, 498454011879264, 806515533049393, 1304969544928657, 2111485077978050, 3416454622906707, 5527939700884757, 8944394323791464, 14472334024676221, 23416728348467685, 37889062373143906, 61305790721611591, 99194853094755497, 160500643816367088, 259695496911122585, 420196140727489673, 679891637638612258, 1100087778366101931, 1779979416004714189, 2880067194370816120, 4660046610375530309, 7540113804746346429, 12200160415121876738, 19740274219868223167, 31940434634990099905, 51680708854858323072, 83621143489848422977, 135301852344706746049, 218922995834555169026, 354224848179261915075, 573147844013817084101]\n"
     ]
    }
   ],
   "source": [
    "n = 100  \n",
    "fibonacci = [0, 1]\n",
    "\n",
    "for i in range(n):\n",
    "    an = fibonacci[-1] + fibonacci[-2]\n",
    "    fibonacci.append(an)\n",
    "\n",
    "print(fibonacci)\n"
   ]
  },
  {
   "cell_type": "code",
   "execution_count": null,
   "metadata": {},
   "outputs": [],
   "source": [
    "n = 100  \n",
    "fibonacci = [0, 1]\n",
    "\n",
    "for i in range(n):\n",
    "    an = fibonacci[-1] + fibonacci[-2]\n",
    "    fibonacci.append(an)\n",
    "\n",
    "print(fibonacci)\n"
   ]
  },
  {
   "cell_type": "markdown",
   "metadata": {},
   "source": [
    "Código de solución estudiante 2"
   ]
  },
  {
   "cell_type": "markdown",
   "metadata": {},
   "source": [
    "# Código de solución estudiante 2\n",
    "\n",
    "\n"
   ]
  },
  {
   "cell_type": "markdown",
   "metadata": {},
   "source": [
    "| i     | 1   | 2   | 3   | 4   | 5 | 6 | 7  |\n",
    "|-------|-----|-----|-----|-----|---|---|----|\n",
    "| Ei(V) | 12  | 10  | 24  | 12  | - | - | -  |\n",
    "| ri(Ω) | 0.1 | 0.5 | 0.2 | 0.5 | - | - | -  |\n",
    "| Ri(Ω) | 25  | 40  | 16  | 20  | 9 | 4 | 20 |\n"
   ]
  },
  {
   "cell_type": "markdown",
   "metadata": {},
   "source": [
    "<span style=\"color:skyblue\">Kemna y Vorst (1990)</span> muestran que las opciones asiáticas con media geométrica se pueden valorar con el mismo enfoque de las opciones plain vanilla; solo se deben cambiar los parámetros de volatilidad σ por σa, y el costo de acarreo b por bA.\n",
    "\n",
    "\n",
    "De acuerdo con Kemna y Vorst, las fórmulas para valuar una opción de compra y una opción de venta son:"
   ]
  },
  {
   "cell_type": "markdown",
   "metadata": {},
   "source": [
    "\n",
    "\n",
    "$$\n",
    "c≈S_t  e^{(b_A-R)(T-t)} Φ(d_1)- K e^{-r(T-t)} Φ(d_2)\n",
    "$$\n",
    "\n",
    "\n",
    "\n",
    "\n",
    "$$\n",
    "c≈K_e^{-r(T-t)} Φ(-d_2)- S_t  e^{(b_A-R)(T-t)} Φ(-d_1)\n",
    "$$"
   ]
  },
  {
   "cell_type": "markdown",
   "metadata": {},
   "source": [
    "con d1 y d2 dados por:\n",
    "\n",
    "$$d_1 =\\frac{\\ \\  \\ln\\left(\\frac{K}{S_t}\\right) + (b_A + \\frac{\\sigma_a^2}{2})T-t}{\\sigma\\sqrt{T-t}} $$\n",
    "\n",
    "$$ d_2 = d_1 - \\sigma_a \\sqrt{T-t} $$"
   ]
  },
  {
   "cell_type": "markdown",
   "metadata": {},
   "source": [
    "La función Φ(d) es la función de distribución acumulada de E∼N(0,1). La volatilidad ajustada es igual a:\n",
    "\n",
    "$$ σ_a= \\frac{σ}{\\sqrt{3}\n",
    "},$$\n"
   ]
  },
  {
   "cell_type": "markdown",
   "metadata": {},
   "source": [
    "mientras que el costo de acarreo ajustado es:\n",
    "$$ b_A=  \\frac{1}{2}  (v- \\frac {σ^2}{6}),$$\n",
    "\n"
   ]
  },
  {
   "cell_type": "markdown",
   "metadata": {},
   "source": [
    "### Ejercicio 2"
   ]
  },
  {
   "cell_type": "code",
   "execution_count": 8,
   "metadata": {},
   "outputs": [
    {
     "name": "stdout",
     "output_type": "stream",
     "text": [
      "[1, 3, 5, 7, 9, 11, 13, 15, 17, 19, 21, 23, 25, 27, 29, 31, 33, 35, 37, 39, 41, 43, 45, 47, 49, 51, 53, 55, 57, 59, 61, 63, 65, 67, 69, 71, 73, 75, 77, 79, 81, 83, 85, 87, 89, 91, 93, 95, 97, 99]\n"
     ]
    }
   ],
   "source": [
    "Lista = []\n",
    "n = 100\n",
    "\n",
    "for i in range (1,n,2):\n",
    "    Lista.append(i)\n",
    "    \n",
    "print(Lista)"
   ]
  },
  {
   "cell_type": "markdown",
   "metadata": {},
   "source": [
    "### Respuesta planteada en el ejercicio usando (markdown)\n",
    " La respuesta es ........."
   ]
  }
 ],
 "metadata": {
  "kernelspec": {
   "display_name": "Python 3 (ipykernel)",
   "language": "python",
   "name": "python3"
  },
  "language_info": {
   "codemirror_mode": {
    "name": "ipython",
    "version": 3
   },
   "file_extension": ".py",
   "mimetype": "text/x-python",
   "name": "python",
   "nbconvert_exporter": "python",
   "pygments_lexer": "ipython3",
   "version": "3.9.13"
  }
 },
 "nbformat": 4,
 "nbformat_minor": 2
}
