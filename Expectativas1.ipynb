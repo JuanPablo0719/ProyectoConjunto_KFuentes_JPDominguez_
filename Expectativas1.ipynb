{
 "cells": [
  {
   "cell_type": "markdown",
   "metadata": {},
   "source": [
    "<img style=\"float: left; margin: 30px 15px 15px 15px;\" src=\"https://pngimage.net/wp-content/uploads/2018/06/logo-iteso-png-5.png\" width=\"300\" height=\"500\" /> \n",
    "    \n",
    "    \n",
    "### <font color='navy'> Simulación de procesos financieros. \n",
    "\n",
    "**Nombres:** Keysi fuentes y Juan Pablo Dominguez\n",
    "\n",
    "**Fecha:** 29 de Enero de 2024.\n",
    "\n",
    "**Expediente** : 740476 y 735196.\n",
    "**Profesor:** Oscar David Jaramillo Zuluaga.\n",
    "    \n",
    "**Link Github**: Link con el enlace del repositorio del creador del proyecto\n",
    "\n",
    "# Tarea 1: Clase 3"
   ]
  },
  {
   "cell_type": "markdown",
   "metadata": {},
   "source": [
    "## Expectativas del curso\n",
    "> En este nuevo notebook el ESTUDIANTE 1 y ESTUDIANTE 2, deben realizar una presentación describiendo sus expectativas del curso y la transcipción de la Figura 1 y Figura 2 respectivamente, haciendo uso de la sintaxis Markdown. Recuerden definir unas celdas donde cada usuario modificará el cuaderno de python para evitar futuros conflictos. \n"
   ]
  },
  {
   "cell_type": "markdown",
   "metadata": {},
   "source": [
    "### Ejercicio 1: (enunciado) Transcribirlo"
   ]
  },
  {
   "cell_type": "markdown",
   "metadata": {},
   "source": [
    "Código de solución estudiante 1"
   ]
  },
  {
   "cell_type": "markdown",
   "metadata": {},
   "source": [
    "# Código de solución estudiante 1\n",
    "En un curso de simulación de procesos financieros, las expectativas giran en torno a desarrollar habilidades prácticas para modelar y entender el comportamiento de sistemas financieros complejos. Se espera que el curso proporcione:\n",
    "\n",
    "Comprensión Práctica: \n",
    "\n",
    "Herramientas de Toma de Decisiones: \n",
    "\n",
    "Aplicaciones en Finanzas:\n",
    "\n",
    "Manejo de Incertidumbre: \n",
    "\n",
    "Uso de Herramientas Tecnológicas: \n",
    "\n",
    "Aplicación a Problemas Reales: "
   ]
  },
  {
   "cell_type": "markdown",
   "metadata": {},
   "source": [
    "Código de solución estudiante 2"
   ]
  },
  {
   "cell_type": "markdown",
   "metadata": {},
   "source": [
    "# Código de solución estudiante 2\n",
    ".# Código de solución estudiante 2\n",
    "En un curso de simulación de procesos financieros, las expectativas se centran en desarrollar habilidades específicas y aplicables que permitan a los participantes:\n",
    "\n",
    "Modelar Dinámicas Financieras: Adquirir la capacidad de modelar de manera efectiva las complejas dinámicas que caracterizan los procesos financieros, utilizando herramientas y enfoques de simulación para capturar la variabilidad y la incertidumbre presentes en el mundo financiero.\n",
    "\n",
    "Analizar y Evaluar Estrategias de Inversión: Desarrollar la habilidad de utilizar simulaciones para analizar estrategias de inversión, evaluar su desempeño en diferentes escenarios y comprender cómo las decisiones de inversión impactan el rendimiento de una cartera en el tiempo.\n",
    "\n",
    "Gestionar Riesgos Financieros: Aprender a aplicar técnicas de simulación para modelar y gestionar riesgos financieros, identificando posibles escenarios adversos y evaluando cómo diversas variables pueden afectar la salud financiera de una empresa o cartera de inversiones."
   ]
  },
  {
   "cell_type": "markdown",
   "metadata": {},
   "source": [
    "### Respuesta planteada en el ejercicio usando (markdown)\n",
    " La respuesta es ........."
   ]
  }
 ],
 "metadata": {
  "kernelspec": {
   "display_name": "Python 3 (ipykernel)",
   "language": "python",
   "name": "python3"
  },
  "language_info": {
   "codemirror_mode": {
    "name": "ipython",
    "version": 3
   },
   "file_extension": ".py",
   "mimetype": "text/x-python",
   "name": "python",
   "nbconvert_exporter": "python",
   "pygments_lexer": "ipython3",
   "version": "3.9.13"
  }
 },
 "nbformat": 4,
 "nbformat_minor": 2
}
